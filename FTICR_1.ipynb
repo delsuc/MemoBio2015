{
 "cells": [
  {
   "cell_type": "markdown",
   "metadata": {},
   "source": [
    "# Discovering the python environment\n",
    "\n",
    "The partical lab is based on the following tools :\n",
    " - **python** : a general purpose language\n",
    "   - modern language / very clean / not limited\n",
    "   - gentle learning curve - easy for beginners\n",
    " - python **standard library**\n",
    "   - HUGE\n",
    " - **ipython** an interactive layer over the python language\n",
    "   - many added convenient utilities added\n",
    "   - check the `%magic` commands\n",
    " - **numpy** a library making numeric vectors first class python objects\n",
    " - **scipy** a library holding *most* standards mathematical and statistical methods\n",
    "   - other library available.\n",
    " - **matplotlib** a library for scientific plots\n",
    " - ipython **notebook** *aka* jupyter, a nice GUI of this stuff, also includes **R** and other environments\n",
    " - there are also libraries that we will not use, but can be very usefull for data-scientists:\n",
    "   - **pandas** is a very comprehensie data-analysis environment for python - *similar to R*\n",
    "   - **SymPy** is a symbolic environment *similar to Mapple*\n",
    "   - **scikit-learn** a machine-earning envirnment for python\n",
    "\n",
    "\n",
    "### getting documentation\n",
    "This is a very important part - you'll find yourself spending more time reading doc than writting code !\n",
    "\n",
    "Do not hesitate to go through the different help systems - available from here.\n",
    "\n",
    "### as an example, we'll use basic processing of FT-ICR data\n",
    "We'll use the processing of a FTICR dataset to through some properties of python and ipython\n",
    "\n"
   ]
  },
  {
   "cell_type": "markdown",
   "metadata": {},
   "source": [
    "# ipython notebook environment"
   ]
  },
  {
   "cell_type": "markdown",
   "metadata": {},
   "source": [
    "# Shell mode\n",
    "\n",
    "Jupyter can be used as a browser over a file system\n",
    "\n",
    "we can also use iPython as a simple shell, 'Unix like' (ls, pwd, cat, etc...)"
   ]
  },
  {
   "cell_type": "code",
   "execution_count": 1,
   "metadata": {
    "collapsed": false
   },
   "outputs": [
    {
     "name": "stdout",
     "output_type": "stream",
     "text": [
      "\u001b[34mESI_pos_150_3000.m\u001b[m\u001b[m/ \u001b[31mdesktop.ini\u001b[m\u001b[m*        \u001b[31mfid\u001b[m\u001b[m*\r\n"
     ]
    }
   ],
   "source": [
    "ls 'FTICR/Files/bruker ubiquitin file/ESI_pos_Ubiquitin_000006.d/'"
   ]
  },
  {
   "cell_type": "code",
   "execution_count": 2,
   "metadata": {
    "collapsed": false,
    "scrolled": true
   },
   "outputs": [
    {
     "name": "stdout",
     "output_type": "stream",
     "text": [
      "a primary ubiquitin spec(from Steve)\r",
      "\r\n",
      "a ECD spec(from training with Matthias)\r",
      "\r\n",
      "a CAD spec(from training with Matthias)\r",
      "\r\n",
      "and a matlab commmand to read and plot the data\r",
      "\r\n",
      "\r",
      "\r\n",
      "Mark's spectrum is acquired from Maxis not FT,and Becky is not in office today so I didn't get them"
     ]
    }
   ],
   "source": [
    "cat 'FTICR/Files/bruker ubiquitin file/readme.txt'"
   ]
  },
  {
   "cell_type": "markdown",
   "metadata": {},
   "source": [
    "and ! can be used to call more specific Unix commands"
   ]
  },
  {
   "cell_type": "code",
   "execution_count": 3,
   "metadata": {
    "collapsed": false,
    "scrolled": true
   },
   "outputs": [
    {
     "name": "stdout",
     "output_type": "stream",
     "text": [
      "./FTICR/Files/bruker ubiquitin file/ESI_pos_Ubiquitin_000006.d/ESI_pos_150_3000.m/apexAcquisition.method\r\n",
      "./FTICR/Files/bruker ubiquitin file/ESI_pos_Ubiquitin_CID_000001.d/ESI_pos_300_3000_4M.m/apexAcquisition.method\r\n",
      "./FTICR/Files/bruker ubiquitin file/ESI_pos_Ubiquitin_ECD_000001.d/ESI_pos_ECD.m/apexAcquisition.method\r\n"
     ]
    }
   ],
   "source": [
    "!find . -name '*.method'"
   ]
  },
  {
   "cell_type": "markdown",
   "metadata": {},
   "source": [
    "# python langage"
   ]
  },
  {
   "cell_type": "markdown",
   "metadata": {},
   "source": [
    "# loading and processing data"
   ]
  },
  {
   "cell_type": "code",
   "execution_count": 4,
   "metadata": {
    "collapsed": false
   },
   "outputs": [],
   "source": [
    "import array\n",
    "import os.path as op\n",
    "import numpy as np\n",
    "\n",
    "import matplotlib as mpl\n",
    "import matplotlib.pylab as plt\n",
    "%matplotlib inline"
   ]
  },
  {
   "cell_type": "code",
   "execution_count": 5,
   "metadata": {
    "collapsed": false
   },
   "outputs": [],
   "source": [
    "BASE = 'FTICR/Files/bruker ubiquitin file/ESI_pos_Ubiquitin_000006.d'"
   ]
  },
  {
   "cell_type": "code",
   "execution_count": 6,
   "metadata": {
    "collapsed": false
   },
   "outputs": [
    {
     "name": "stdout",
     "output_type": "stream",
     "text": [
      "\u001b[31mPULPROG__BASIC.compiled\u001b[m\u001b[m*  \u001b[31mapexAcquisition.method\u001b[m\u001b[m*   \u001b[31mlock.file\u001b[m\u001b[m*\r\n",
      "\u001b[31mPULPROG__BASIC.event_seq\u001b[m\u001b[m* \u001b[31mdesktop.ini\u001b[m\u001b[m*              \u001b[31msubmethods.xml\u001b[m\u001b[m*\r\n"
     ]
    }
   ],
   "source": [
    "ls 'FTICR/Files/bruker ubiquitin file/ESI_pos_Ubiquitin_000006.d/ESI_pos_150_3000.m/'"
   ]
  },
  {
   "cell_type": "code",
   "execution_count": 7,
   "metadata": {
    "collapsed": false
   },
   "outputs": [],
   "source": [
    "F = open(  op.join(BASE, 'fid'), 'r')\n",
    "tbuf = F.read(4*1024*1024)\n",
    "fid = np.array(array.array('i',tbuf))\n",
    "F.close()"
   ]
  },
  {
   "cell_type": "code",
   "execution_count": 8,
   "metadata": {
    "collapsed": false
   },
   "outputs": [
    {
     "data": {
      "text/plain": [
       "1048576"
      ]
     },
     "execution_count": 8,
     "metadata": {},
     "output_type": "execute_result"
    }
   ],
   "source": [
    "len(fid)"
   ]
  },
  {
   "cell_type": "code",
   "execution_count": 9,
   "metadata": {
    "collapsed": false
   },
   "outputs": [
    {
     "data": {
      "text/plain": [
       "array([ 1137,   125,  1623,   952,  -138,  -366,  -857, -1464, -1604, -1247])"
      ]
     },
     "execution_count": 9,
     "metadata": {},
     "output_type": "execute_result"
    }
   ],
   "source": [
    "fid[1000:1010]"
   ]
  },
  {
   "cell_type": "code",
   "execution_count": 10,
   "metadata": {
    "collapsed": false
   },
   "outputs": [
    {
     "data": {
      "text/plain": [
       "[<matplotlib.lines.Line2D at 0x106aa2b10>]"
      ]
     },
     "execution_count": 10,
     "metadata": {},
     "output_type": "execute_result"
    },
    {
     "data": {
      "image/png": "[encoded data removed]",
      "text/plain": [
       "<matplotlib.figure.Figure at 0x105f8de10>"
      ]
     },
     "metadata": {},
     "output_type": "display_data"
    }
   ],
   "source": [
    "plt.plot(fid)"
   ]
  },
  {
   "cell_type": "markdown",
   "metadata": {},
   "source": [
    "### Fourier processing \n",
    "*small complication*\n",
    "\n",
    "There are 2 fft packages available\n",
    " - `numpy.fft`\n",
    "   - simple, basic, efficient\n",
    " - `scipy.fftpack`\n",
    "   - slightly faster, more complex\n",
    "\n",
    "we are going to use `numpy.fft`"
   ]
  },
  {
   "cell_type": "code",
   "execution_count": 11,
   "metadata": {
    "collapsed": false
   },
   "outputs": [],
   "source": [
    "sp = np.fft.fft(fid)"
   ]
  },
  {
   "cell_type": "code",
   "execution_count": 12,
   "metadata": {
    "collapsed": false
   },
   "outputs": [
    {
     "name": "stdout",
     "output_type": "stream",
     "text": [
      "(-1373111+0j)\n"
     ]
    },
    {
     "data": {
      "text/plain": [
       "1048576"
      ]
     },
     "execution_count": 12,
     "metadata": {},
     "output_type": "execute_result"
    }
   ],
   "source": [
    "print sp[0]\n",
    "len(sp)"
   ]
  },
  {
   "cell_type": "code",
   "execution_count": 13,
   "metadata": {
    "collapsed": false
   },
   "outputs": [],
   "source": [
    "# default size of the figures\n",
    "mpl.rcParams['figure.figsize'] = [10.0,8.0]\n",
    "# this helps matplotlib to draw the huge vectors we're using (4-8Mpoints)\n",
    "mpl.rcParams['agg.path.chunksize'] = 100000"
   ]
  },
  {
   "cell_type": "code",
   "execution_count": 14,
   "metadata": {
    "collapsed": false
   },
   "outputs": [
    {
     "name": "stderr",
     "output_type": "stream",
     "text": [
      "/Users/mad/anaconda/lib/python2.7/site-packages/numpy/core/numeric.py:462: ComplexWarning: Casting complex values to real discards the imaginary part\n",
      "  return array(a, dtype, copy=False, order=order)\n"
     ]
    },
    {
     "data": {
      "text/plain": [
       "[<matplotlib.lines.Line2D at 0x108526f90>]"
      ]
     },
     "execution_count": 14,
     "metadata": {},
     "output_type": "execute_result"
    },
    {
     "data": {
      "image/png": "[encoded data removed]",
      "text/plain": [
       "<matplotlib.figure.Figure at 0x105f8dd90>"
      ]
     },
     "metadata": {},
     "output_type": "display_data"
    }
   ],
   "source": [
    "plt.plot(sp)"
   ]
  },
  {
   "cell_type": "markdown",
   "metadata": {},
   "source": [
    "3 remarks\n",
    " - imaginary discarded (eventually silently)\n",
    " - phase\n",
    " - symetry\n",
    "\n",
    "1 syntax remark"
   ]
  },
  {
   "cell_type": "code",
   "execution_count": 15,
   "metadata": {
    "collapsed": false
   },
   "outputs": [
    {
     "name": "stdout",
     "output_type": "stream",
     "text": [
      "(-1373111+0j)\n"
     ]
    },
    {
     "data": {
      "text/plain": [
       "524289"
      ]
     },
     "execution_count": 15,
     "metadata": {},
     "output_type": "execute_result"
    }
   ],
   "source": [
    "from numpy.fft import fft, rfft\n",
    "sp = rfft(fid)\n",
    "print sp[0]\n",
    "len(sp)"
   ]
  },
  {
   "cell_type": "code",
   "execution_count": 16,
   "metadata": {
    "collapsed": false
   },
   "outputs": [
    {
     "name": "stdout",
     "output_type": "stream",
     "text": [
      "Using matplotlib backend: MacOSX\n"
     ]
    },
    {
     "data": {
      "text/plain": [
       "[<matplotlib.lines.Line2D at 0x125bbdbd0>]"
      ]
     },
     "execution_count": 16,
     "metadata": {},
     "output_type": "execute_result"
    }
   ],
   "source": [
    "%matplotlib\n",
    "plt.plot(abs(sp))     # absolute value is modulus"
   ]
  },
  {
   "cell_type": "code",
   "execution_count": 17,
   "metadata": {
    "collapsed": false
   },
   "outputs": [
    {
     "data": {
      "text/plain": [
       "[<matplotlib.lines.Line2D at 0x12821cf90>]"
      ]
     },
     "execution_count": 17,
     "metadata": {},
     "output_type": "execute_result"
    }
   ],
   "source": [
    "# let's zoom in\n",
    "plt.plot(abs(sp[715000:725000]))"
   ]
  },
  {
   "cell_type": "code",
   "execution_count": 18,
   "metadata": {
    "collapsed": false
   },
   "outputs": [
    {
     "data": {
      "text/plain": [
       "[<matplotlib.lines.Line2D at 0x1087dcd10>]"
      ]
     },
     "execution_count": 18,
     "metadata": {},
     "output_type": "execute_result"
    }
   ],
   "source": [
    "# without the abs() we see the phase rotating\n",
    "plt.plot(sp[720000:722000])\n",
    "plt.figure()\n",
    "# we rotate by 90° the phase\n",
    "plt.plot(1j*sp[720000:722000])\n"
   ]
  },
  {
   "cell_type": "markdown",
   "metadata": {},
   "source": [
    "## 2 possible improvements\n",
    " - improved resolution by apodisation\n",
    " - recovery of the full resolution by zerofilling\n",
    " \n",
    " ### apodisation"
   ]
  },
  {
   "cell_type": "code",
   "execution_count": 19,
   "metadata": {
    "collapsed": false
   },
   "outputs": [
    {
     "data": {
      "text/plain": [
       "[<matplotlib.lines.Line2D at 0x12b992d50>]"
      ]
     },
     "execution_count": 19,
     "metadata": {},
     "output_type": "execute_result"
    }
   ],
   "source": [
    "plt.plot(np.hamming(100))\n"
   ]
  },
  {
   "cell_type": "markdown",
   "metadata": {},
   "source": [
    "there is also `blackman` `hanning`  `bartlett`..."
   ]
  },
  {
   "cell_type": "code",
   "execution_count": 20,
   "metadata": {
    "collapsed": false
   },
   "outputs": [
    {
     "data": {
      "text/plain": [
       "'blackman'"
      ]
     },
     "execution_count": 20,
     "metadata": {},
     "output_type": "execute_result"
    }
   ],
   "source": [
    "np.blackman.func_name"
   ]
  },
  {
   "cell_type": "code",
   "execution_count": 21,
   "metadata": {
    "collapsed": false
   },
   "outputs": [
    {
     "data": {
      "text/plain": [
       "<matplotlib.legend.Legend at 0x12b999890>"
      ]
     },
     "execution_count": 21,
     "metadata": {},
     "output_type": "execute_result"
    }
   ],
   "source": [
    "for apod in (np.blackman, np.hamming, np.hanning, np.bartlett):\n",
    "    plt.plot(apod(100),label=apod.func_name)\n",
    "plt.legend()\n"
   ]
  },
  {
   "cell_type": "code",
   "execution_count": 22,
   "metadata": {
    "collapsed": true
   },
   "outputs": [],
   "source": [
    "sp2 = rfft( np.hamming(len(fid))*fid )"
   ]
  },
  {
   "cell_type": "code",
   "execution_count": 23,
   "metadata": {
    "collapsed": false
   },
   "outputs": [
    {
     "data": {
      "text/plain": [
       "[<matplotlib.lines.Line2D at 0x12e3dd950>]"
      ]
     },
     "execution_count": 23,
     "metadata": {},
     "output_type": "execute_result"
    }
   ],
   "source": [
    "plt.plot(abs(sp2))\n",
    "plt.figure()\n",
    "plt.plot(abs(sp2[720000:722000]))"
   ]
  },
  {
   "cell_type": "markdown",
   "metadata": {},
   "source": [
    "Notice how lineshape is improved, and the isotopic pattern intensities restored\n",
    "\n",
    "We can superimpose both processing, zooming on a line you can see that FWHM is sligthly worse when apodized.\n",
    "\n",
    "Theory is 1.5 for hamming window, but does not really show here."
   ]
  },
  {
   "cell_type": "code",
   "execution_count": 24,
   "metadata": {
    "collapsed": false
   },
   "outputs": [
    {
     "data": {
      "text/plain": [
       "(721050, 721080)"
      ]
     },
     "execution_count": 24,
     "metadata": {},
     "output_type": "execute_result"
    }
   ],
   "source": [
    "plt.plot(abs(sp)/max(sp))\n",
    "plt.plot(abs(sp2)/max(sp2))\n",
    "plt.xlim(721050,721080)"
   ]
  },
  {
   "cell_type": "markdown",
   "metadata": {},
   "source": [
    "### zerofilling\n",
    "\n",
    "zerofilling consists in adding zero at the end of the FID to interpolate points in the spectrum and smooth the result\n",
    "\n",
    "( and an example of slighlty different numpy arithmetics)"
   ]
  },
  {
   "cell_type": "code",
   "execution_count": 25,
   "metadata": {
    "collapsed": false
   },
   "outputs": [],
   "source": [
    "n = len(fid)\n",
    "fidzf = np.zeros(4*n)\n"
   ]
  },
  {
   "cell_type": "code",
   "execution_count": 60,
   "metadata": {
    "collapsed": false
   },
   "outputs": [
    {
     "data": {
      "text/plain": [
       "[<matplotlib.lines.Line2D at 0x13c807690>]"
      ]
     },
     "execution_count": 60,
     "metadata": {},
     "output_type": "execute_result"
    },
    {
     "data": {
      "image/png": "[encoded data removed]",
      "text/plain": [
       "<matplotlib.figure.Figure at 0x13cb72050>"
      ]
     },
     "metadata": {},
     "output_type": "display_data"
    }
   ],
   "source": [
    "fidzf[:n] = fid[:]\n",
    "fidzf[:n] *= np.hamming(n)\n",
    "spzf = abs(rfft( fidzf ))\n",
    "plt.plot(abs(spzf[720000:722000]))"
   ]
  },
  {
   "cell_type": "markdown",
   "metadata": {},
   "source": [
    "lineshape and isotopic pattern intensities further improved !"
   ]
  },
  {
   "cell_type": "code",
   "execution_count": 63,
   "metadata": {
    "collapsed": false
   },
   "outputs": [
    {
     "data": {
      "text/plain": [
       "<matplotlib.legend.Legend at 0x148cc2c90>"
      ]
     },
     "execution_count": 63,
     "metadata": {},
     "output_type": "execute_result"
    },
    {
     "data": {
      "image/png": "[encoded data removed]",
      "text/plain": [
       "<matplotlib.figure.Figure at 0x141e07f10>"
      ]
     },
     "metadata": {},
     "output_type": "display_data"
    }
   ],
   "source": [
    "plt.subplot(211)\n",
    "plt.plot(abs(sp2[721100/2:721200/2]), label='direct')\n",
    "plt.legend()\n",
    "plt.subplot(212)\n",
    "plt.plot(abs(spzf[721100:721200]), label='with zerofilling')\n",
    "plt.legend()"
   ]
  },
  {
   "cell_type": "markdown",
   "metadata": {},
   "source": [
    "# m/z Calibration\n",
    "In FT-ICR, the frequency $f$ depends on the magnetic field $B_o$ the charge $z$ and the mass $m$ :\n",
    "$$ f = \\frac{B_o z}{m} \\quad \\Rightarrow \\quad  m/z = \\frac{B_o}{f}$$\n",
    "We are going to use a sligthly extended equation which takes cares of experimental imperfections:\n",
    "$$ m/z = \\frac{M_1}{M_2+f}$$\n",
    "where $M_1$ and $M_2$ are constants determined precisely by a calibration procedure\n",
    "\n",
    "### parameter files\n",
    "FT-ICR parameters are stored in the .method files"
   ]
  },
  {
   "cell_type": "code",
   "execution_count": 28,
   "metadata": {
    "collapsed": false
   },
   "outputs": [
    {
     "name": "stdout",
     "output_type": "stream",
     "text": [
      "\u001b[31mFTICR/Files/bruker ubiquitin file/ESI_pos_Ubiquitin_000006.d/ESI_pos_150_3000.m/apexAcquisition.method\u001b[m\u001b[m*\r\n"
     ]
    }
   ],
   "source": [
    "ls 'FTICR/Files/bruker ubiquitin file/ESI_pos_Ubiquitin_000006.d/ESI_pos_150_3000.m/apexAcquisition.method'"
   ]
  },
  {
   "cell_type": "markdown",
   "metadata": {},
   "source": [
    "# utility\n",
    "parameter are stored in a XML file, we can look through the file and get the parameters manually, but it is also possible to simply build a dictionary from the entries.\n",
    "\n",
    "Here a simple mini parser, using standard python library"
   ]
  },
  {
   "cell_type": "code",
   "execution_count": 29,
   "metadata": {
    "collapsed": true
   },
   "outputs": [],
   "source": [
    "from xml.dom import minidom\n",
    "def read_param(filename):\n",
    "    \"\"\"\n",
    "        Open the given file and retrieve all parameters from apexAcquisition.method\n",
    "        NC is written when no value for value is found\n",
    "        \n",
    "        structure : <param name = \"AMS_ActiveExclusion\"><value>0</value></param>\n",
    "       \n",
    "        read_param returns  values in a dictionnary\n",
    "    \"\"\"\n",
    "    xmldoc = minidom.parse(filename)\n",
    "    \n",
    "    x = xmldoc.documentElement\n",
    "    pp = {}\n",
    "    children = x.childNodes\n",
    "    for child in children:\n",
    "        if (child.nodeName == 'paramlist'):\n",
    "            params = child.childNodes\n",
    "            for param in params:\n",
    "                if (param.nodeName == 'param'):\n",
    "                    k = str(param.getAttribute('name'))\n",
    "                    for element in param.childNodes:\n",
    "                       if element.nodeName == \"value\":\n",
    "                           try:\n",
    "                               v = str(element.firstChild.toxml())\n",
    "                               #print v\n",
    "                           except: \n",
    "                               v = \"NC\"\n",
    "                    pp[k] = v\n",
    "    return pp"
   ]
  },
  {
   "cell_type": "code",
   "execution_count": 30,
   "metadata": {
    "collapsed": false
   },
   "outputs": [
    {
     "name": "stdout",
     "output_type": "stream",
     "text": [
      "4194304\n"
     ]
    }
   ],
   "source": [
    "pfile = op.join(BASE, 'ESI_pos_150_3000.m', 'apexAcquisition.method')\n",
    "param = read_param(pfile)\n",
    "print (param['TD'])"
   ]
  },
  {
   "cell_type": "code",
   "execution_count": 31,
   "metadata": {
    "collapsed": true
   },
   "outputs": [
    {
     "name": "stdout",
     "output_type": "stream",
     "text": [
      "[['IN_23', 'IN_22', 'IN_21', 'IN_20', 'IN_27', 'IN_26', 'IN_25', 'IN_24', 'VPV2_5', 'VPV2_15', 'IN_29', 'IN_28', 'VPV2_1', 'SPOFFS_0', 'VPV2_3', 'VPV2_2', 'VPV2_27', 'SPOFFS_1', 'SPOFFS_6', 'NCI_GateLensPass', 'CC_RFAmp', 'SPOFFS_7', 'YMIN_p', 'SPOFFS_4', 'SPOFFS_5', 'VPV1_18', 'SwpTime_2', 'VPV2_4', 'RxGain', 'DSPFVS', 'Xfer_Freq', 'SPOFFS_9', 'Reverse_ETDSW', 'MTP_LaserPowerRange', 'Q1_Shell', 'VPV2_0', 'SwpDir', 'SP_11', 'GB', 'S_Funnel1_DC', 'Q1Res_TimeSlice01', 'SPNAM1', 'JLOW_3', 'JLOW_2', 'JLOW_1', 'JLOW_0', 'MTP_LaserPowerOffset', 'P_10', 'TD_Narrowband', 'P_11', 'IRMPD_MS3', 'Oct1_Trap', 'IRMPD_MS4', 'D_25', 'D_24', 'D_27', 'D_26', 'D_21', 'D_20', 'D_23', 'D_22', 'P_14', 'NS_status', 'D_29', 'D_28', 'FR_low', 'VSTEP_25', 'P_16', 'VSTEP_24', 'IsCID', 'P_17', 'BYTORDA', 'L_16', 'IRMPD_Power', 'L_17', 'Q1_EntranceLens', 'PL_13', 'VSTEP_21', 'XBB', 'BYTORDP', 'VSTEP_23', 'VSTEP_20', 'AMS_UI_FragmentationType_Selection', 'NCI_Max_Emission', 'MTP_RANDOM_WALK_ENABLE', 'AMS_MassAccuracy', 'PL_31', 'P_12', 'DEV2', 'CC_FocusLens', 'NCI_TransferLens', 'API_Polarity', 'SPOFFS_10', 'SPOFFS_11', 'SPOFFS_12', 'SPOFFS_13', 'SPOFFS_14', 'SPOFFS_15', 'FQ8LIST', 'INP_16', 'AMS_MSMSBoostEnabled', 'JSB_1', 'JSB_0', 'JSB_3', 'JSB_2', 'L_18', 'MI', 'L_19', 'AMS_MaxNumParentIons', 'EV1', 'EV2', 'CFDGTYP', 'API_NebGasTemp', 'AMS_ThresholdSelectionMode', 'FW', 'SwpLow_1', 'SPNAM4', 'SwpLow_3', 'SwpLow_2', 'API_CoronadNeedle', 'Q1CID', 'XFC', 'NCI_Chamber', 'JRAD', 'PL_5', 'PL_4', 'PL_7', 'PL_6', 'PL_1', 'PL_0', 'PL_3', 'PL_2', 'NTB_fillUpPrecursorsFromDynExclusion', 'L_29', 'PL_9', 'PL_8', 'AMS_MaxThreshold', 'ETD_OnOffSW', 'NTB_preferDoubleChargedIons', 'SP_8', 'PATCHNO', 'SP_0', 'SP_1', 'PULSED_VALVE_2_ON', 'SP_3', 'SP_4', 'SP_5', 'SP_6', 'SP_7', 'CorrLst_13', 'CorrLst_12', 'CorrLst_11', 'CorrLst_10', 'AQ_mod', 'CorrLst_15', 'CorrLst_14', 'EXC_AMP', 'SW', 'CorrLst_MS4_14', 'CorrLst_MS4_15', 'SI', 'VPV1_31', 'CorrLst_MS4_10', 'CorrLst_MS4_11', 'CorrLst_MS4_12', 'CorrLst_MS4_13', 'FidSum', 'VSTEP_29', 'VSTEP_28', 'Polarity', 'Min_Intensity_Absolute', 'QFSCU_STORE', 'MW_high', 'XHR', 'VPV1_30', 'SW_h', 'P_13', 'VPV1_14', 'NTB_exclUnknownAndSingleChargedIons', 'CorrLst_MS3_1', 'LB', 'CorrLst_MS3_0', 'CorrLst_MS3_3', 'IIE', 'DRU_DataMode', 'CorrLst_MS3_5', 'CorrLst_MS3_4', 'L_2', 'L_3', 'L_0', 'FQ5LIST', 'L_6', 'CorrLst_MS3_7', 'L_4', 'L_5', 'L_8', 'CorrLst_MS3_6', 'TD_Broadband', 'P_15', 'VPV1_16', 'IccAux2', 'IccAux3', 'IccAux1', 'D_18', 'D_19', 'IccAux4', 'D_14', 'D_15', 'D_16', 'D_17', 'D_10', 'ECD_EC', 'D_12', 'D_13', 'VPV1_2', 'QFSCU_OVERWRITE', 'L_30', 'L_31', 'VPV1_6', 'VPV1_7', 'VPV1_4', 'VPV1_5', 'MW_cent', 'VPV1_9', 'Q1DC', 'FQ3LIST', 'CNST_31', 'CNST_30', 'Oct1_RFAmp', 'NCI_GateLensBlock', 'CLUPA_1', 'CLUPA_0', 'CLUPA_3', 'CLUPA_2', 'CC_EntranceLensX', 'RGAIN', 'FQ1LIST', 'CC_EntranceLensT', 'L_1', 'VPV2_30', 'SPNAM3', 'SPNAM2', 'BF1', 'CorrLst_8', 'SPNAM7', 'SPNAM6', 'SPNAM5', 'IRMPD', 'CorrLst_3', 'CorrLst_2', 'CorrLst_1', 'CorrLst_0', 'CorrLst_7', 'CorrLst_6', 'CorrLst_5', 'CorrLst_4', 'COROFFS', 'EXC_hi', 'VSTEP_26', 'IN_30', 'IN_31', 'DataDep', 'S_Skimmer2_L', 'SwpHigh_2', 'SwpHigh_3', 'SwpHigh_0', 'SwpHigh_1', 'TDeff', 'Oct1_RF_Freq', 'VCLIST', 'VPV2_24', 'Q1_FocusOffset', 'AMS_SourceQuench', 'Oct1_PartitionLens', 'NTB_maxChargeState', 'Oct1_Bias_H', 'MAXPKS', 'Oct1_Bias_L', 'CC_GasFlushSW', 'CLPTS', 'IN_4', 'IN_5', 'IN_6', 'IN_7', 'IN_0', 'IN_1', 'IN_2', 'IN_3', 'VD', 'VPV2_23', 'IN_8', 'EXC_low', 'PAPS', 'L_7', 'VPLIST', 'DIGTYP', 'SPNAM9', 'PULPROG', 'Q1_ExitLens', 'VSTEP_18', 'VSTEP_19', 'Q1_Focus', 'VSTEP_14', 'VSTEP_15', 'VSTEP_16', 'VSTEP_17', 'VSTEP_10', 'VSTEP_11', 'VSTEP_12', 'VSTEP_13', 'EM', 'L_9', 'S_Skimmer1', 'NOISE', 'API_NebSW', 'NCI_ReagentTuneSW', 'IsolationNotch_3', 'IsolationNotch_2', 'IsolationNotch_1', 'IsolationNotch_0', 'TDoff', 'VPV2_9', 'SSB', 'API_NebGasFlow', 'AMS_BasePeak', 'Q1Mass', 'NCI_FocusLens', 'AMS_Priority_Masses', 'AMS_CollisionalActivationEnabled', 'AMS_EXCL_Masses', 'SP_2', 'SwpEnabled_0', 'SwpEnabled_1', 'SwpEnabled_2', 'ECD', 'SW_h_Broadband', 'Calmet', 'VSTEP_31', 'SaveScanSpectrum', 'PV1', 'PV2', 'CorrLst_MS4_3', 'P_30', 'P_31', 'Reservoir_2_Pressure', 'MW_range', 'Oct1_Bias2_Delta', 'SwpRate_0', 'SwpRate_1', 'SwpRate_2', 'SwpRate_3', 'ECDLens', 'AMS_IsolationEnabled', 'Reservoir_1_Pressure', 'PL_30', 'DM', 'SPOFFS_2', 'DE', 'D_11', 'SEL_0', 'SEL_1', 'DIGMOD', 'SEL_3', 'DW', 'DR', 'DS', 'CorrLst_MS3_15', 'EXC_CTL', 'SPOFFS_3', 'VPV1_3', 'SPNAM13', 'SPNAM12', 'SPNAM11', 'SPNAM10', 'VPV1_0', 'SPNAM15', 'SPNAM14', 'ML2', 'ML3', 'VPV2_7', 'ML1', 'Xfer_ExitLens', 'VPV2_6', 'RxFilter', 'QFSCU_TABLE', 'API_SyringeFlowRate', 'VPV1_8', 'IN_CELL_ISOLATION_MODE_MS4', 'IN_CELL_ISOLATION_MODE_MS3', 'AMS_FragmentationMode', 'VSTEP_27', 'Add_Lock_Mass', 'VPV1_24', 'AMS_PreferMultiplyCharged', 'JSHA_3', 'JSHA_2', 'JSHA_1', 'JSHA_0', 'API_SprayShield', 'VPV1_22', 'NCI_Source_Temp', 'INP_13', 'INP_12', 'INP_11', 'INP_10', 'INP_17', 'FQ7LIST', 'INP_15', 'INP_14', 'INP_19', 'INP_18', 'Aperture_State', 'L_28', 'IHEF', 'Experiment_Table_Index', 'L_25', 'L_24', 'L_27', 'L_26', 'L_21', 'L_20', 'L_23', 'L_22', 'CNST_28', 'CNST_29', 'CNST_20', 'CNST_21', 'CNST_22', 'CNST_23', 'CNST_24', 'CNST_25', 'CNST_26', 'CNST_27', 'AMS_MSMSDuration', 'API_DryGasTemp', 'VPV2_28', 'VPV2_29', 'FQ2LIST', 'VPV2_25', 'VPV2_26', 'API_ESI_HVSW', 'VPV2_20', 'VPV2_21', 'VPV2_22', 'NoisPct', 'CFRGTYP', 'MW_low', 'API_DryGasFlow', 'SORI_MS3', 'SORI_MS4', 'AMS_FixedCollisionVoltageEnabled', 'NCI_MethaneFlow', 'VSTEP_22', 'REVERSE', 'PH_mod', 'WDW', 'NTB_relThreshold', 'CLSTAT', 'MTP_SCAN_PER_GRID', 'VPV1_23', 'AMS_ReleaseAfter', 'IN_CELL_ISOLATION', 'VPV2_8', 'TILT', 'PC', 'SPOFFS_8', 'API_CapillaryEntrance', 'CC_ExitLensX', 'CC_ExitLensT', 'SaveFid', 'DSPFIRM', 'LC_mode', 'EXC_RAD', 'ICC_LowerPeakSumLimit', 'JSWA_2', 'JSWA_3', 'JSWA_0', 'JSWA_1', 'PL_26', 'VPV2_31', 'S_MaldiPlate_L', 'CC_EntranceBiasX', 'VPV1_19', 'FQ4LIST', 'VSTEP_9', 'JHIGH_0', 'JHIGH_1', 'JHIGH_2', 'JHIGH_3', 'VPV1_10', 'VPV1_11', 'VPV1_12', 'VPV1_13', 'CC_EntranceBiasT', 'CorrLst_9', 'IHEF_toggle', 'VPV1_17', 'CC_GasSW', 'IN_CELL_ISOLATION_MODE', 'Xfer_RFAmp', 'PULSED_VALVE_1_ON', 'Q1_PreFilter', 'D_8', 'D_9', 'HES', 'D_2', 'D_3', 'D_0', 'D_1', 'D_6', 'D_7', 'D_4', 'D_5', 'INSTRUM', 'AZURA_Enable', 'HEC', 'AMS_ActiveExclusion', 'AqDSize', 'SORI', 'SP_12', 'SP_13', 'SP_10', 'SPNAM8', 'SP_14', 'SP_15', 'SEL_2', 'Q1Res', 'L_14', 'L_15', 'INP_28', 'INP_29', 'L_10', 'L_11', 'L_12', 'L_13', 'INP_22', 'INP_23', 'INP_20', 'INP_21', 'INP_26', 'INP_27', 'INP_24', 'INP_25', 'P_29', 'P_28', 'P_21', 'P_20', 'P_23', 'P_22', 'P_25', 'P_24', 'P_27', 'P_26', 'CC_GasBypass', 'S_Deflector_L', 'API_APCI_HVSW', 'NTB_actExclusionResolution', 'ICC_StartReactionLevel', 'S_Skimmer2_H', 'IN_16', 'IN_17', 'IN_14', 'IN_15', 'IN_12', 'IN_13', 'IN_10', 'IN_11', 'PULSED_VALVE_2_MS4', 'IN_18', 'IN_19', 'VP', 'Hy_path', 'IM', 'IN_CELL_MSN_STATE', 'PULSED_VALVE_2_MS3', 'CorrLst_MS4_2', 'AQSmode', 'CorrLst_MS4_0', 'CorrLst_MS4_1', 'CorrLst_MS4_6', 'CorrLst_MS4_7', 'CorrLst_MS4_4', 'CorrLst_MS4_5', 'CorrLst_MS4_8', 'CorrLst_MS4_9', 'LCRunTime', 'SW_h_Narrowband', 'HexCenterFreq', 'AMS_MinThreshold', 'CorrLst_MS3_11', 'CorrLst_MS3_10', 'CorrLst_MS3_13', 'CorrLst_MS3_12', 'AMS_EnergyFile', 'CorrLst_MS3_14', 'CC_GasFlushTime', 'TgTyp', 'O1', 'QFSCU_OPMODE', 'Oct1_Bias2', 'PULSED_VALVE_1_MS4', 'PHC1', 'PHC0', 'SwpLow_0', 'ECD_MS4', 'ECD_MS3', 'YMAX_p', 'API_SourceType', 'Q1_Bias', 'ICC_UpperPeakSumLimit', 'Polarity_Alternate', 'PL_28', 'PL_29', 'PL_24', 'PL_25', 'D_30', 'D_31', 'PL_20', 'PL_21', 'PL_22', 'PL_23', 'PIoff_2', 'PIoff_3', 'PIoff_0', 'PIoff_1', 'API_DryGasTempSW', 'M1LIST', 'AMS_FixedCollisionVoltage', 'PL_27', 'FQ6LIST', 'AMS_DynamicExclusion', 'SPNAM0', 'DECIM', 'API_DivertVale_Position', 'Q1Res_TimeSlice25', 'S_Funnel_RF', 'Ion_Mirror_RFAmp', 'VPV2_19', 'VPV2_18', 'Xfer_EntranceLens', 'VPV2_11', 'VPV2_10', 'VPV2_13', 'VPV2_12', 'AMS_INCL_Masses', 'VPV2_14', 'VPV2_17', 'VPV2_16', 'SwpTime_1', 'SwpTime_0', 'SwpTime_3', 'API_DivertVale_Type', 'CC_RF_Freq', 'INP_3', 'INP_2', 'INP_1', 'INP_0', 'INP_7', 'INP_6', 'INP_5', 'INP_4', 'P_18', 'P_19', 'INP_9', 'INP_8', 'VSTEP_8', 'API_SyringeRateUnit', 'NCI_MethaneFlushSW', 'API_NebTempSW', 'Q1_PostFilter', 'NTB_exclSingleChargedIons', 'S_Funnel2_DC', 'AMS_FractionatedFIA', 'CNST_15', 'CNST_14', 'CNST_17', 'CNST_16', 'CNST_11', 'CNST_10', 'CNST_13', 'CNST_12', 'CorrLst_MS3_9', 'CorrLst_MS3_8', 'CNST_19', 'CNST_18', 'VSTEP_1', 'Oct1_Extract', 'VPV1_15', 'CNST_1', 'CNST_0', 'CNST_3', 'CNST_2', 'CNST_5', 'CNST_4', 'CNST_7', 'CNST_6', 'CNST_9', 'CNST_8', 'VSTEP_5', 'RxMode', 'PULSED_VALVE_1_MS3', 'VSTEP_2', 'S_CapillaryExit_L', 'NTB_strictActExclTime', 'VSTEP_30', 'NC_proc', 'InSource_Frag_Energy', 'NBL', 'NS', 'VSTEP_3', 'Mass_Tolerance', 'API_DryGasSW', 'C_MsmsE', 'NCI_Emission_Current', 'VPV1_25', 'IN_CELL_ISOLATION_MS4', 'VPV1_27', 'VPV1_26', 'VPV1_21', 'VPV1_20', 'IN_CELL_ISOLATION_MS3', 'VDLIST', 'VSTEP_0', 'VPV1_29', 'VPV1_28', 'Xfer_Lens_1', 'Xfer_Lens_2', 'Xfer_Lens_3', 'NCI_Ionization_Energy', 'AMS_ChargeStateTolerance', 'Calibration', 'AMS_ExcludeAfter', 'VSTEP_6', 'CLDATE', 'PL_15', 'PL_14', 'PL_17', 'PL_16', 'PL_11', 'PL_10', 'CC_GasFlow', 'PL_12', 'PI_0', 'PI_1', 'PI_2', 'PI_3', 'PL_19', 'PL_18', 'IN_9', 'NCI_Filament_Selection', 'VSTEP_7', 'IonChargeControl', 'INP_31', 'INP_30', 'TD', 'Min_Intensity_Relative', 'SwpEnabled_3', 'LaserAttn', 'SN_Fact', 'BC_mod', 'P_9', 'Xfer_Bias', 'VSTEP_4', 'PP_meth', 'Q1_Frag_Energy', 'MTP_SPOT_DIAMETER', 'S_CapillaryExit_H', 'SFO1', 'VPV1_1', 'SP_9', 'MAXI', 'P_8', 'CorrLst_MS3_2', 'P_6', 'P_7', 'P_4', 'P_5', 'P_2', 'P_3', 'P_0', 'P_1']]\n"
     ]
    }
   ],
   "source": [
    "print [param.keys()]"
   ]
  },
  {
   "cell_type": "code",
   "execution_count": 55,
   "metadata": {
    "collapsed": false
   },
   "outputs": [
    {
     "name": "stdout",
     "output_type": "stream",
     "text": [
      "Spectral width: 625000.0\n",
      "constant M_1: 184270017.834\n",
      "constant M_2: 5.03916110231\n"
     ]
    }
   ],
   "source": [
    "# we find the parameters in the parameter file\n",
    "sw = float(param['SW_h_Broadband'])\n",
    "ml1 = float(param['ML1'])\n",
    "ml2 = float(param['ML2'])\n",
    "print('Spectral width: {}'.format(sw) )\n",
    "print('constant M_1: {}'.format(ml1))\n",
    "print('constant M_2: {}'.format(ml2))"
   ]
  },
  {
   "cell_type": "code",
   "execution_count": 56,
   "metadata": {
    "collapsed": false
   },
   "outputs": [],
   "source": [
    "faxis = np.linspace(0, sw, len(spzf))    # the freq axis from 0 to sw"
   ]
  },
  {
   "cell_type": "code",
   "execution_count": 57,
   "metadata": {
    "collapsed": false
   },
   "outputs": [],
   "source": [
    "mzaxis = ml1/(ml2+faxis)    # and the mzaxis"
   ]
  },
  {
   "cell_type": "code",
   "execution_count": 64,
   "metadata": {
    "collapsed": false
   },
   "outputs": [
    {
     "data": {
      "text/plain": [
       "<matplotlib.text.Text at 0x151b39a90>"
      ]
     },
     "execution_count": 64,
     "metadata": {},
     "output_type": "execute_result"
    },
    {
     "data": {
      "image/png": "[encoded data removed]",
      "text/plain": [
       "<matplotlib.figure.Figure at 0x148a97c50>"
      ]
     },
     "metadata": {},
     "output_type": "display_data"
    }
   ],
   "source": [
    "plt.plot(mzaxis, spzf)\n",
    "plt.xlim(856.5, 858.5)\n",
    "plt.xlabel(\"$m/z$\")"
   ]
  },
  {
   "cell_type": "markdown",
   "metadata": {},
   "source": [
    "we can zoom on the monoisotopic peak, and try to determine precisely its value.\n",
    "\n",
    "We know the theorical mass is 856.969496 (for the $z=10$ state)."
   ]
  },
  {
   "cell_type": "code",
   "execution_count": 65,
   "metadata": {
    "collapsed": false
   },
   "outputs": [
    {
     "data": {
      "text/plain": [
       "<matplotlib.text.Text at 0x16afe8190>"
      ]
     },
     "execution_count": 65,
     "metadata": {},
     "output_type": "execute_result"
    },
    {
     "data": {
      "image/png": "[encoded data removed]",
      "text/plain": [
       "<matplotlib.figure.Figure at 0x12808afd0>"
      ]
     },
     "metadata": {},
     "output_type": "display_data"
    }
   ],
   "source": [
    "plt.plot(mzaxis, spzf)\n",
    "plt.xlim(856.9, 857.0)\n",
    "plt.ylim(0,6E7)\n",
    "plt.xlabel(\"$m/z$\")"
   ]
  },
  {
   "cell_type": "code",
   "execution_count": 67,
   "metadata": {
    "collapsed": false
   },
   "outputs": [],
   "source": [
    "# these functions convert back and forth from index to m/z\n",
    "def itomz(val, N):\n",
    "    \"\"\"transform index to m/z for N points,\n",
    "    using current ml1 ml2 and sw\n",
    "    \"\"\"\n",
    "    f = sw*val/N\n",
    "    return ml1/(ml2+f)\n",
    "def mztoi(m, N):\n",
    "    \"\"\"transform m/z to index for N points,\n",
    "    using current ml1 ml2 and sw\n",
    "    \"\"\"\n",
    "    f = ml1/m - ml2\n",
    "    return N*f/sw\n",
    "theo = 856.9694962104804\n",
    "def ppm(theorical, measured):\n",
    "    return 1E6*(measured-theorical)/measured"
   ]
  },
  {
   "cell_type": "markdown",
   "metadata": {},
   "source": [
    "we can compute the vector coordinates of the previous zoom window"
   ]
  },
  {
   "cell_type": "code",
   "execution_count": 68,
   "metadata": {
    "collapsed": false
   },
   "outputs": [
    {
     "name": "stdout",
     "output_type": "stream",
     "text": [
      "start: 721462  - end: 721546\n",
      "maximum is at: 721488, for m/z: 856.969738865\n",
      "For an error of 0.283 ppm\n"
     ]
    },
    {
     "data": {
      "image/png": "[encoded data removed]",
      "text/plain": [
       "<matplotlib.figure.Figure at 0x141f10bd0>"
      ]
     },
     "metadata": {},
     "output_type": "display_data"
    }
   ],
   "source": [
    "start = int( mztoi(857.0, len(spzf)))\n",
    "end = int( mztoi(856.9, len(spzf)))\n",
    "print(\"start: {}  - end: {}\".format(start,end))\n",
    "plt.plot(spzf[start:end])\n",
    "top = spzf[start:end].argmax() + start\n",
    "meas1 = itomz(top,len(spzf))\n",
    "print(\"maximum is at: {}, for m/z: {}\".format(top,meas1))\n",
    "print(\"For an error of {:.3f} ppm\".format(ppm(theo, meas1)))"
   ]
  },
  {
   "cell_type": "code",
   "execution_count": 69,
   "metadata": {
    "collapsed": false
   },
   "outputs": [
    {
     "name": "stdout",
     "output_type": "stream",
     "text": [
      "peak barycenter is at 856.969645395\n",
      "For an error of 0.174 ppm\n"
     ]
    }
   ],
   "source": [
    "# peak barycenter\n",
    "bary = 0.0\n",
    "s = 0\n",
    "for i in range(-3, +4):\n",
    "    bary += i*spzf[i+top]\n",
    "    s += spzf[i+top]\n",
    "mbary = itomz(bary/s+top, len(spzf))\n",
    "print (\"peak barycenter is at {}\".format(mbary))\n",
    "print(\"For an error of {:.3f} ppm\".format(ppm(theo, mbary)))"
   ]
  },
  {
   "cell_type": "code",
   "execution_count": 71,
   "metadata": {
    "collapsed": false
   },
   "outputs": [
    {
     "ename": "SyntaxError",
     "evalue": "invalid syntax (<ipython-input-71-ac99d4800e09>, line 3)",
     "output_type": "error",
     "traceback": [
      "\u001b[0;36m  File \u001b[0;32m\"<ipython-input-71-ac99d4800e09>\"\u001b[0;36m, line \u001b[0;32m3\u001b[0m\n\u001b[0;31m    bary =\u001b[0m\n\u001b[0m           ^\u001b[0m\n\u001b[0;31mSyntaxError\u001b[0m\u001b[0;31m:\u001b[0m invalid syntax\n"
     ]
    }
   ],
   "source": [
    "# peak barycenter\n",
    "x = np.arange(-3, +4)\n",
    "bary = x*\n",
    "s = 0\n",
    "for i in range(-3, +4):\n",
    "    bary += i*spzf[i+top]\n",
    "    s += spzf[i+top]\n",
    "mbary = itomz(bary/s+top, len(spzf))\n",
    "print (\"peak barycenter is at {}\".format(mbary))\n",
    "print(\"For an error of {:.3f} ppm\".format(ppm(theo, mbary)))"
   ]
  },
  {
   "cell_type": "markdown",
   "metadata": {},
   "source": [
    "# packing it up\n",
    "Now we can simply build a function doing all this at once :"
   ]
  },
  {
   "cell_type": "code",
   "execution_count": 40,
   "metadata": {
    "collapsed": false
   },
   "outputs": [],
   "source": [
    "import glob\n",
    "def read_fticr(folder):\n",
    "    \"\"\"\n",
    "    load and process the data Solarix Apex FTICR file found in folder\n",
    "    uses the calibration from the parameter file\n",
    "    \n",
    "    eg:\n",
    "    spectrum,axis = read_fticr('FTICR/Files/bruker ubiquitin file/ESI_pos_Ubiquitin_000006.d')\n",
    "    \"\"\"\n",
    "    # find and load parameters\n",
    "    L = glob.glob(op.join(folder,\"*\",\"apexAcquisition.method\"))\n",
    "    if len(L)>1:\n",
    "        raise Exception( \"You have more than 1 apexAcquisition.method file in the %s folder, using the first one\"%folder )\n",
    "    elif len(L) == 0: \n",
    "        raise Exception( \"You don't have any apexAcquisition.method file in the  %s folder, please double check the path\"%folder )\n",
    "    param = read_param(L[0])\n",
    "    \n",
    "    # load data\n",
    "    n = int(param['TD'])\n",
    "    fidzf = np.zeros(2*n)\n",
    "    with  open(  op.join(BASE, 'fid'), 'r') as F:  # 'with' a better way of reading a file\n",
    "        tbuf = F.read(4*int(param['TD']))\n",
    "        fidzf[:n] = np.array(array.array('i',tbuf)) # [:] is less memory intensive\n",
    "\n",
    "    # process\n",
    "    fidzf[:n] *= np.hamming(n)\n",
    "    spectrum = abs( rfft( fidzf ) )\n",
    "\n",
    "    # calibrate\n",
    "    sw = float(param['SW_h_Broadband'])\n",
    "    ml1 = float(param['ML1'])\n",
    "    ml2 = float(param['ML2'])\n",
    "    faxis = np.linspace(0, sw, len(spectrum))    # the freq axis from 0 to sw\n",
    "    mzaxis = ml1/(ml2+faxis)    # and the mzaxis\n",
    "    return spectrum, mzaxis\n"
   ]
  },
  {
   "cell_type": "code",
   "execution_count": 41,
   "metadata": {
    "collapsed": false
   },
   "outputs": [],
   "source": [
    "spectrum,axis = read_fticr('FTICR/Files/bruker ubiquitin file/ESI_pos_Ubiquitin_ECD_000001.d')"
   ]
  },
  {
   "cell_type": "code",
   "execution_count": 42,
   "metadata": {
    "collapsed": false
   },
   "outputs": [
    {
     "data": {
      "text/plain": [
       "(200, 2500)"
      ]
     },
     "execution_count": 42,
     "metadata": {},
     "output_type": "execute_result"
    }
   ],
   "source": [
    "# %matplotlib\n",
    "plt.plot(axis, spectrum)\n",
    "plt.xlabel(\"$m/z$\")\n",
    "plt.xlim(200,2500)"
   ]
  },
  {
   "cell_type": "code",
   "execution_count": 43,
   "metadata": {
    "collapsed": false
   },
   "outputs": [
    {
     "data": {
      "text/plain": [
       "(650, 1300)"
      ]
     },
     "execution_count": 43,
     "metadata": {},
     "output_type": "execute_result"
    }
   ],
   "source": [
    "plt.plot(axis, spectrum)\n",
    "plt.xlabel(\"$m/z$\")\n",
    "plt.xlim(650,1300)\n"
   ]
  },
  {
   "cell_type": "markdown",
   "metadata": {},
   "source": [
    "# Doing the same thing with SPIKE\n",
    "\n",
    "SPIKE is a complete software suite we're building to do this, *and much more*"
   ]
  },
  {
   "cell_type": "code",
   "execution_count": 44,
   "metadata": {
    "collapsed": false
   },
   "outputs": [
    {
     "name": "stdout",
     "output_type": "stream",
     "text": [
      "\n",
      "    ========================\n",
      "          SPIKE\n",
      "    ========================\n",
      "    Version     : 0.6.4\n",
      "    Date        : 12-03-2015\n",
      "    ========================\n",
      "Importing plugin << bcorr >>\n",
      "Importing plugin << Bruker_NMR_FT >>\n",
      "Importing plugin << Bucketing >>\n",
      "Importing plugin << DOSY >>\n",
      "Importing plugin << fastclean >>\n",
      "Importing plugin << Linear_prediction >>\n",
      "Importing plugin << Peak_from_NPK >>\n",
      "The NPK dll seems to be lacking\n",
      "The Fitter dll seems to be lacking\n",
      "Importing plugin << Peaks >>\n",
      "Importing plugin << Recital >>\n",
      "Importing plugin << rem_ridge >>\n",
      "Importing plugin << sg >>\n",
      "Importing plugin << test >>\n",
      "Importing plugin << urQRd >>\n"
     ]
    }
   ],
   "source": [
    "import sys\n",
    "sys.path.append('/Users/mad/NPKV2/')\n",
    "import spike\n",
    "from spike.File import Solarix\n",
    "%matplotlib inline"
   ]
  },
  {
   "cell_type": "code",
   "execution_count": 45,
   "metadata": {
    "collapsed": false
   },
   "outputs": [],
   "source": [
    "BASE = 'FTICR/Files/bruker ubiquitin file/ESI_pos_Ubiquitin_000006.d'\n",
    "dd = Solarix.Import_1D(BASE)"
   ]
  },
  {
   "cell_type": "code",
   "execution_count": 46,
   "metadata": {
    "collapsed": false
   },
   "outputs": [
    {
     "data": {
      "text/plain": [
       "Dim 1\n",
       "Axis F1 : FT-ICR axis at 625.000000 kHz,  4194304 real points,  from mz = 3000.000   to m/z =  231.024  R max (M=400) = 2422464"
      ]
     },
     "execution_count": 46,
     "metadata": {},
     "output_type": "execute_result"
    },
    {
     "data": {
      "image/png": "[encoded data removed]",
      "text/plain": [
       "<matplotlib.figure.Figure at 0x1029963d0>"
      ]
     },
     "metadata": {},
     "output_type": "display_data"
    }
   ],
   "source": [
    "dd.unit = \"sec\"\n",
    "dd.display()"
   ]
  },
  {
   "cell_type": "code",
   "execution_count": 47,
   "metadata": {
    "collapsed": false
   },
   "outputs": [
    {
     "data": {
      "text/plain": [
       "Dim 1\n",
       "Axis F1 : FT-ICR axis at 625.000000 kHz,  4194304 real points,  from mz = 3000.000   to m/z =  231.024  R max (M=400) = 2422464"
      ]
     },
     "execution_count": 47,
     "metadata": {},
     "output_type": "execute_result"
    },
    {
     "data": {
      "image/png": "[encoded data removed]",
      "text/plain": [
       "<matplotlib.figure.Figure at 0x16afc8f90>"
      ]
     },
     "metadata": {},
     "output_type": "display_data"
    }
   ],
   "source": [
    "dd.hamming().zf(2).rfft().modulus()\n",
    "dd.unit = \"m/z\"\n",
    "dd.display(zoom=(500,2000))"
   ]
  },
  {
   "cell_type": "code",
   "execution_count": 48,
   "metadata": {
    "collapsed": false
   },
   "outputs": [
    {
     "data": {
      "text/plain": [
       "Dim 1\n",
       "Axis F1 : FT-ICR axis at 625.000000 kHz,  4194304 real points,  from mz = 3000.000   to m/z =  294.830  R max (M=400) = 3091537"
      ]
     },
     "execution_count": 48,
     "metadata": {},
     "output_type": "execute_result"
    },
    {
     "data": {
      "image/png": "[encoded data removed]",
      "text/plain": [
       "<matplotlib.figure.Figure at 0x17c44c350>"
      ]
     },
     "metadata": {},
     "output_type": "display_data"
    }
   ],
   "source": [
    "# wrong calibration !\n",
    "dd.axis1.calibA = float(dd.params[\"ML1\"])\n",
    "dd.axis1.calibB = float(dd.params[\"ML2\"])\n",
    "dd.display(zoom=(500,2000))"
   ]
  },
  {
   "cell_type": "code",
   "execution_count": 49,
   "metadata": {
    "collapsed": false
   },
   "outputs": [
    {
     "name": "stdout",
     "output_type": "stream",
     "text": [
      "10000000.0\n",
      "detected 709 peaks\n"
     ]
    }
   ],
   "source": [
    "dd.pp(threshold=1E7)\n",
    "print (\"detected %d peaks\"%len(dd.peaks))"
   ]
  },
  {
   "cell_type": "code",
   "execution_count": 50,
   "metadata": {
    "collapsed": false
   },
   "outputs": [
    {
     "data": {
      "image/png": "[encoded data removed]",
      "text/plain": [
       "<matplotlib.figure.Figure at 0x12e4086d0>"
      ]
     },
     "metadata": {},
     "output_type": "display_data"
    }
   ],
   "source": [
    "dd.display(zoom=(856.5, 858.5))\n",
    "dd.display_peaks(zoom=(856.5, 858.5))"
   ]
  },
  {
   "cell_type": "code",
   "execution_count": 51,
   "metadata": {
    "collapsed": false
   },
   "outputs": [],
   "source": [
    "p = dd.peaks[603]"
   ]
  },
  {
   "cell_type": "code",
   "execution_count": 52,
   "metadata": {
    "collapsed": false
   },
   "outputs": [
    {
     "data": {
      "text/plain": [
       "'603, 603, 1438613.00000, 19899454.35191, 0.00'"
      ]
     },
     "execution_count": 52,
     "metadata": {},
     "output_type": "execute_result"
    }
   ],
   "source": [
    "p.report()"
   ]
  },
  {
   "cell_type": "code",
   "execution_count": 53,
   "metadata": {
    "collapsed": false
   },
   "outputs": [
    {
     "data": {
      "text/plain": [
       "'603, Peak 103, 859.56807, 19899454.35191, 0.00'"
      ]
     },
     "execution_count": 53,
     "metadata": {},
     "output_type": "execute_result"
    }
   ],
   "source": [
    "p.label = \"Peak 103\"\n",
    "p.report()  # in index\n",
    "p.report(f=dd.axis1.itomz)  # in m/z"
   ]
  },
  {
   "cell_type": "code",
   "execution_count": 54,
   "metadata": {
    "collapsed": false
   },
   "outputs": [
    {
     "ename": "TypeError",
     "evalue": "center() takes at most 2 arguments (4 given)",
     "output_type": "error",
     "traceback": [
      "\u001b[0;31m---------------------------------------------------------------------------\u001b[0m",
      "\u001b[0;31mTypeError\u001b[0m                                 Traceback (most recent call last)",
      "\u001b[0;32m<ipython-input-54-caabb32e6a8e>\u001b[0m in \u001b[0;36m<module>\u001b[0;34m()\u001b[0m\n\u001b[0;32m----> 1\u001b[0;31m \u001b[0mdd\u001b[0m\u001b[0;34m.\u001b[0m\u001b[0mcentroid\u001b[0m\u001b[0;34m(\u001b[0m\u001b[0;34m)\u001b[0m\u001b[0;34m\u001b[0m\u001b[0m\n\u001b[0m\u001b[1;32m      2\u001b[0m \u001b[0;32mfor\u001b[0m \u001b[0mp\u001b[0m \u001b[0;32min\u001b[0m \u001b[0mdd\u001b[0m\u001b[0;34m.\u001b[0m\u001b[0mpeaks\u001b[0m\u001b[0;34m:\u001b[0m\u001b[0;34m\u001b[0m\u001b[0m\n\u001b[1;32m      3\u001b[0m     \u001b[0mp\u001b[0m\u001b[0;34m.\u001b[0m\u001b[0mlabel\u001b[0m \u001b[0;34m=\u001b[0m \u001b[0;34m\"%.5f\"\u001b[0m\u001b[0;34m%\u001b[0m\u001b[0;34m(\u001b[0m\u001b[0mdd\u001b[0m\u001b[0;34m.\u001b[0m\u001b[0maxis1\u001b[0m\u001b[0;34m.\u001b[0m\u001b[0mitomz\u001b[0m\u001b[0;34m(\u001b[0m\u001b[0mp\u001b[0m\u001b[0;34m.\u001b[0m\u001b[0mpos\u001b[0m\u001b[0;34m)\u001b[0m\u001b[0;34m)\u001b[0m\u001b[0;34m\u001b[0m\u001b[0m\n",
      "\u001b[0;32m/Users/mad/NPKV2/spike/plugins/Peaks.py\u001b[0m in \u001b[0;36mcentroid\u001b[0;34m(npkd, *arg, **kwarg)\u001b[0m\n\u001b[1;32m    495\u001b[0m \u001b[0;32mdef\u001b[0m \u001b[0mcentroid\u001b[0m\u001b[0;34m(\u001b[0m\u001b[0mnpkd\u001b[0m\u001b[0;34m,\u001b[0m \u001b[0;34m*\u001b[0m\u001b[0marg\u001b[0m\u001b[0;34m,\u001b[0m \u001b[0;34m**\u001b[0m\u001b[0mkwarg\u001b[0m\u001b[0;34m)\u001b[0m\u001b[0;34m:\u001b[0m\u001b[0;34m\u001b[0m\u001b[0m\n\u001b[1;32m    496\u001b[0m     \u001b[0;32mif\u001b[0m \u001b[0mnpkd\u001b[0m\u001b[0;34m.\u001b[0m\u001b[0mdim\u001b[0m \u001b[0;34m==\u001b[0m \u001b[0;36m1\u001b[0m\u001b[0;34m:\u001b[0m\u001b[0;34m\u001b[0m\u001b[0m\n\u001b[0;32m--> 497\u001b[0;31m         \u001b[0mcentroid1d\u001b[0m\u001b[0;34m(\u001b[0m\u001b[0mnpkd\u001b[0m\u001b[0;34m,\u001b[0m \u001b[0;34m*\u001b[0m\u001b[0marg\u001b[0m\u001b[0;34m,\u001b[0m \u001b[0;34m**\u001b[0m\u001b[0mkwarg\u001b[0m\u001b[0;34m)\u001b[0m\u001b[0;34m\u001b[0m\u001b[0m\n\u001b[0m\u001b[1;32m    498\u001b[0m     \u001b[0;32melif\u001b[0m \u001b[0mnpkd\u001b[0m\u001b[0;34m.\u001b[0m\u001b[0mdim\u001b[0m \u001b[0;34m==\u001b[0m \u001b[0;36m2\u001b[0m\u001b[0;34m:\u001b[0m\u001b[0;34m\u001b[0m\u001b[0m\n\u001b[1;32m    499\u001b[0m         \u001b[0mcentroid2d\u001b[0m\u001b[0;34m(\u001b[0m\u001b[0mnpkd\u001b[0m\u001b[0;34m,\u001b[0m \u001b[0;34m*\u001b[0m\u001b[0marg\u001b[0m\u001b[0;34m,\u001b[0m \u001b[0;34m**\u001b[0m\u001b[0mkwarg\u001b[0m\u001b[0;34m)\u001b[0m\u001b[0;34m\u001b[0m\u001b[0m\n",
      "\u001b[0;32m/Users/mad/NPKV2/spike/plugins/Peaks.py\u001b[0m in \u001b[0;36mcentroid1d\u001b[0;34m(npkd, npoints)\u001b[0m\n\u001b[1;32m    450\u001b[0m         \u001b[0mydata\u001b[0m \u001b[0;34m=\u001b[0m \u001b[0mnpkd\u001b[0m\u001b[0;34m.\u001b[0m\u001b[0mget_buffer\u001b[0m\u001b[0;34m(\u001b[0m\u001b[0;34m)\u001b[0m\u001b[0;34m[\u001b[0m\u001b[0mxdata\u001b[0m\u001b[0;34m]\u001b[0m\u001b[0;34m\u001b[0m\u001b[0m\n\u001b[1;32m    451\u001b[0m         \u001b[0;32mtry\u001b[0m\u001b[0;34m:\u001b[0m\u001b[0;34m\u001b[0m\u001b[0m\n\u001b[0;32m--> 452\u001b[0;31m             \u001b[0mpopt\u001b[0m\u001b[0;34m,\u001b[0m \u001b[0mpcov\u001b[0m \u001b[0;34m=\u001b[0m \u001b[0mcurve_fit\u001b[0m\u001b[0;34m(\u001b[0m\u001b[0mcenter\u001b[0m\u001b[0;34m,\u001b[0m \u001b[0mxdata\u001b[0m\u001b[0;34m,\u001b[0m \u001b[0mydata\u001b[0m\u001b[0;34m,\u001b[0m \u001b[0mp0\u001b[0m\u001b[0;34m=\u001b[0m\u001b[0;34m[\u001b[0m\u001b[0mpk\u001b[0m\u001b[0;34m.\u001b[0m\u001b[0mpos\u001b[0m\u001b[0;34m,\u001b[0m \u001b[0mpk\u001b[0m\u001b[0;34m.\u001b[0m\u001b[0mintens\u001b[0m\u001b[0;34m,\u001b[0m \u001b[0;36m1.0\u001b[0m\u001b[0;34m]\u001b[0m \u001b[0;34m)\u001b[0m \u001b[0;31m# fit\u001b[0m\u001b[0;34m\u001b[0m\u001b[0m\n\u001b[0m\u001b[1;32m    453\u001b[0m         \u001b[0;32mexcept\u001b[0m \u001b[0mRuntimeError\u001b[0m\u001b[0;34m:\u001b[0m\u001b[0;34m\u001b[0m\u001b[0m\n\u001b[1;32m    454\u001b[0m             \u001b[0;32mprint\u001b[0m \u001b[0;34m(\u001b[0m \u001b[0;34m\"peak %s (id %d) centroid could not be fitted\"\u001b[0m\u001b[0;34m%\u001b[0m\u001b[0;34m(\u001b[0m\u001b[0mpk\u001b[0m\u001b[0;34m.\u001b[0m\u001b[0mId\u001b[0m\u001b[0;34m,\u001b[0m \u001b[0mpk\u001b[0m\u001b[0;34m.\u001b[0m\u001b[0mlabel\u001b[0m\u001b[0;34m)\u001b[0m \u001b[0;34m)\u001b[0m\u001b[0;34m\u001b[0m\u001b[0m\n",
      "\u001b[0;32m/Users/mad/anaconda/lib/python2.7/site-packages/scipy/optimize/minpack.pyc\u001b[0m in \u001b[0;36mcurve_fit\u001b[0;34m(f, xdata, ydata, p0, sigma, absolute_sigma, check_finite, **kw)\u001b[0m\n\u001b[1;32m    579\u001b[0m     \u001b[0;31m# Remove full_output from kw, otherwise we're passing it in twice.\u001b[0m\u001b[0;34m\u001b[0m\u001b[0;34m\u001b[0m\u001b[0m\n\u001b[1;32m    580\u001b[0m     \u001b[0mreturn_full\u001b[0m \u001b[0;34m=\u001b[0m \u001b[0mkw\u001b[0m\u001b[0;34m.\u001b[0m\u001b[0mpop\u001b[0m\u001b[0;34m(\u001b[0m\u001b[0;34m'full_output'\u001b[0m\u001b[0;34m,\u001b[0m \u001b[0mFalse\u001b[0m\u001b[0;34m)\u001b[0m\u001b[0;34m\u001b[0m\u001b[0m\n\u001b[0;32m--> 581\u001b[0;31m     \u001b[0mres\u001b[0m \u001b[0;34m=\u001b[0m \u001b[0mleastsq\u001b[0m\u001b[0;34m(\u001b[0m\u001b[0mfunc\u001b[0m\u001b[0;34m,\u001b[0m \u001b[0mp0\u001b[0m\u001b[0;34m,\u001b[0m \u001b[0margs\u001b[0m\u001b[0;34m=\u001b[0m\u001b[0margs\u001b[0m\u001b[0;34m,\u001b[0m \u001b[0mfull_output\u001b[0m\u001b[0;34m=\u001b[0m\u001b[0;36m1\u001b[0m\u001b[0;34m,\u001b[0m \u001b[0;34m**\u001b[0m\u001b[0mkw\u001b[0m\u001b[0;34m)\u001b[0m\u001b[0;34m\u001b[0m\u001b[0m\n\u001b[0m\u001b[1;32m    582\u001b[0m     \u001b[0;34m(\u001b[0m\u001b[0mpopt\u001b[0m\u001b[0;34m,\u001b[0m \u001b[0mpcov\u001b[0m\u001b[0;34m,\u001b[0m \u001b[0minfodict\u001b[0m\u001b[0;34m,\u001b[0m \u001b[0merrmsg\u001b[0m\u001b[0;34m,\u001b[0m \u001b[0mier\u001b[0m\u001b[0;34m)\u001b[0m \u001b[0;34m=\u001b[0m \u001b[0mres\u001b[0m\u001b[0;34m\u001b[0m\u001b[0m\n\u001b[1;32m    583\u001b[0m \u001b[0;34m\u001b[0m\u001b[0m\n",
      "\u001b[0;32m/Users/mad/anaconda/lib/python2.7/site-packages/scipy/optimize/minpack.pyc\u001b[0m in \u001b[0;36mleastsq\u001b[0;34m(func, x0, args, Dfun, full_output, col_deriv, ftol, xtol, gtol, maxfev, epsfcn, factor, diag)\u001b[0m\n\u001b[1;32m    369\u001b[0m     \u001b[0;32mif\u001b[0m \u001b[0;32mnot\u001b[0m \u001b[0misinstance\u001b[0m\u001b[0;34m(\u001b[0m\u001b[0margs\u001b[0m\u001b[0;34m,\u001b[0m \u001b[0mtuple\u001b[0m\u001b[0;34m)\u001b[0m\u001b[0;34m:\u001b[0m\u001b[0;34m\u001b[0m\u001b[0m\n\u001b[1;32m    370\u001b[0m         \u001b[0margs\u001b[0m \u001b[0;34m=\u001b[0m \u001b[0;34m(\u001b[0m\u001b[0margs\u001b[0m\u001b[0;34m,\u001b[0m\u001b[0;34m)\u001b[0m\u001b[0;34m\u001b[0m\u001b[0m\n\u001b[0;32m--> 371\u001b[0;31m     \u001b[0mshape\u001b[0m\u001b[0;34m,\u001b[0m \u001b[0mdtype\u001b[0m \u001b[0;34m=\u001b[0m \u001b[0m_check_func\u001b[0m\u001b[0;34m(\u001b[0m\u001b[0;34m'leastsq'\u001b[0m\u001b[0;34m,\u001b[0m \u001b[0;34m'func'\u001b[0m\u001b[0;34m,\u001b[0m \u001b[0mfunc\u001b[0m\u001b[0;34m,\u001b[0m \u001b[0mx0\u001b[0m\u001b[0;34m,\u001b[0m \u001b[0margs\u001b[0m\u001b[0;34m,\u001b[0m \u001b[0mn\u001b[0m\u001b[0;34m)\u001b[0m\u001b[0;34m\u001b[0m\u001b[0m\n\u001b[0m\u001b[1;32m    372\u001b[0m     \u001b[0mm\u001b[0m \u001b[0;34m=\u001b[0m \u001b[0mshape\u001b[0m\u001b[0;34m[\u001b[0m\u001b[0;36m0\u001b[0m\u001b[0;34m]\u001b[0m\u001b[0;34m\u001b[0m\u001b[0m\n\u001b[1;32m    373\u001b[0m     \u001b[0;32mif\u001b[0m \u001b[0mn\u001b[0m \u001b[0;34m>\u001b[0m \u001b[0mm\u001b[0m\u001b[0;34m:\u001b[0m\u001b[0;34m\u001b[0m\u001b[0m\n",
      "\u001b[0;32m/Users/mad/anaconda/lib/python2.7/site-packages/scipy/optimize/minpack.pyc\u001b[0m in \u001b[0;36m_check_func\u001b[0;34m(checker, argname, thefunc, x0, args, numinputs, output_shape)\u001b[0m\n\u001b[1;32m     18\u001b[0m def _check_func(checker, argname, thefunc, x0, args, numinputs,\n\u001b[1;32m     19\u001b[0m                 output_shape=None):\n\u001b[0;32m---> 20\u001b[0;31m     \u001b[0mres\u001b[0m \u001b[0;34m=\u001b[0m \u001b[0matleast_1d\u001b[0m\u001b[0;34m(\u001b[0m\u001b[0mthefunc\u001b[0m\u001b[0;34m(\u001b[0m\u001b[0;34m*\u001b[0m\u001b[0;34m(\u001b[0m\u001b[0;34m(\u001b[0m\u001b[0mx0\u001b[0m\u001b[0;34m[\u001b[0m\u001b[0;34m:\u001b[0m\u001b[0mnuminputs\u001b[0m\u001b[0;34m]\u001b[0m\u001b[0;34m,\u001b[0m\u001b[0;34m)\u001b[0m \u001b[0;34m+\u001b[0m \u001b[0margs\u001b[0m\u001b[0;34m)\u001b[0m\u001b[0;34m)\u001b[0m\u001b[0;34m)\u001b[0m\u001b[0;34m\u001b[0m\u001b[0m\n\u001b[0m\u001b[1;32m     21\u001b[0m     \u001b[0;32mif\u001b[0m \u001b[0;34m(\u001b[0m\u001b[0moutput_shape\u001b[0m \u001b[0;32mis\u001b[0m \u001b[0;32mnot\u001b[0m \u001b[0mNone\u001b[0m\u001b[0;34m)\u001b[0m \u001b[0;32mand\u001b[0m \u001b[0;34m(\u001b[0m\u001b[0mshape\u001b[0m\u001b[0;34m(\u001b[0m\u001b[0mres\u001b[0m\u001b[0;34m)\u001b[0m \u001b[0;34m!=\u001b[0m \u001b[0moutput_shape\u001b[0m\u001b[0;34m)\u001b[0m\u001b[0;34m:\u001b[0m\u001b[0;34m\u001b[0m\u001b[0m\n\u001b[1;32m     22\u001b[0m         \u001b[0;32mif\u001b[0m \u001b[0;34m(\u001b[0m\u001b[0moutput_shape\u001b[0m\u001b[0;34m[\u001b[0m\u001b[0;36m0\u001b[0m\u001b[0;34m]\u001b[0m \u001b[0;34m!=\u001b[0m \u001b[0;36m1\u001b[0m\u001b[0;34m)\u001b[0m\u001b[0;34m:\u001b[0m\u001b[0;34m\u001b[0m\u001b[0m\n",
      "\u001b[0;32m/Users/mad/anaconda/lib/python2.7/site-packages/scipy/optimize/minpack.pyc\u001b[0m in \u001b[0;36m_general_function\u001b[0;34m(params, xdata, ydata, function)\u001b[0m\n\u001b[1;32m    445\u001b[0m \u001b[0;34m\u001b[0m\u001b[0m\n\u001b[1;32m    446\u001b[0m \u001b[0;32mdef\u001b[0m \u001b[0m_general_function\u001b[0m\u001b[0;34m(\u001b[0m\u001b[0mparams\u001b[0m\u001b[0;34m,\u001b[0m \u001b[0mxdata\u001b[0m\u001b[0;34m,\u001b[0m \u001b[0mydata\u001b[0m\u001b[0;34m,\u001b[0m \u001b[0mfunction\u001b[0m\u001b[0;34m)\u001b[0m\u001b[0;34m:\u001b[0m\u001b[0;34m\u001b[0m\u001b[0m\n\u001b[0;32m--> 447\u001b[0;31m     \u001b[0;32mreturn\u001b[0m \u001b[0mfunction\u001b[0m\u001b[0;34m(\u001b[0m\u001b[0mxdata\u001b[0m\u001b[0;34m,\u001b[0m \u001b[0;34m*\u001b[0m\u001b[0mparams\u001b[0m\u001b[0;34m)\u001b[0m \u001b[0;34m-\u001b[0m \u001b[0mydata\u001b[0m\u001b[0;34m\u001b[0m\u001b[0m\n\u001b[0m\u001b[1;32m    448\u001b[0m \u001b[0;34m\u001b[0m\u001b[0m\n\u001b[1;32m    449\u001b[0m \u001b[0;34m\u001b[0m\u001b[0m\n",
      "\u001b[0;31mTypeError\u001b[0m: center() takes at most 2 arguments (4 given)"
     ]
    }
   ],
   "source": [
    "dd.centroid()\n",
    "for p in dd.peaks:\n",
    "    p.label = \"%.5f\"%(dd.axis1.itomz(p.pos))"
   ]
  },
  {
   "cell_type": "code",
   "execution_count": null,
   "metadata": {
    "collapsed": false
   },
   "outputs": [],
   "source": [
    "# this switches to a different display mode\n",
    "%matplotlib\n",
    "dd.display(zoom=(856.5, 858.5))\n",
    "dd.display_peaks(zoom=(856.5, 858.5), peak_label=True)"
   ]
  },
  {
   "cell_type": "code",
   "execution_count": null,
   "metadata": {
    "collapsed": true
   },
   "outputs": [],
   "source": [
    "e"
   ]
  }
 ],
 "metadata": {
  "kernelspec": {
   "display_name": "Python 2",
   "language": "python",
   "name": "python2"
  },
  "language_info": {
   "codemirror_mode": {
    "name": "ipython",
    "version": 2
   },
   "file_extension": ".py",
   "mimetype": "text/x-python",
   "name": "python",
   "nbconvert_exporter": "python",
   "pygments_lexer": "ipython2",
   "version": "2.7.10"
  }
 },
 "nbformat": 4,
 "nbformat_minor": 0
}
